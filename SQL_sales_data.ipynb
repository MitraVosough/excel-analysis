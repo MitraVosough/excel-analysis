{
 "cells": [
  {
   "cell_type": "code",
   "execution_count": 2,
   "metadata": {},
   "outputs": [
    {
     "name": "stdout",
     "output_type": "stream",
     "text": [
      "Collecting duckdb\n",
      "  Using cached duckdb-1.3.0-cp312-cp312-win_amd64.whl.metadata (7.2 kB)\n",
      "Using cached duckdb-1.3.0-cp312-cp312-win_amd64.whl (11.4 MB)\n",
      "Installing collected packages: duckdb\n",
      "Successfully installed duckdb-1.3.0\n",
      "Note: you may need to restart the kernel to use updated packages.\n"
     ]
    }
   ],
   "source": [
    "%pip install duckdb"
   ]
  },
  {
   "cell_type": "code",
   "execution_count": 4,
   "metadata": {},
   "outputs": [
    {
     "name": "stdout",
     "output_type": "stream",
     "text": [
      "DuckDB imported successfully!\n"
     ]
    }
   ],
   "source": [
    "import duckdb\n",
    "print(\"DuckDB imported successfully!\")"
   ]
  },
  {
   "cell_type": "code",
   "execution_count": 7,
   "metadata": {},
   "outputs": [
    {
     "name": "stdout",
     "output_type": "stream",
     "text": [
      "c:\\Users\\Pardis\\AppData\\Local\\Programs\\Microsoft VS Code\n"
     ]
    }
   ],
   "source": [
    "import os\n",
    "print(os.getcwd())"
   ]
  },
  {
   "cell_type": "code",
   "execution_count": 22,
   "metadata": {},
   "outputs": [
    {
     "name": "stdout",
     "output_type": "stream",
     "text": [
      "c:\\Users\\Pardis\\AppData\\Local\\Programs\\Microsoft VS Code\n"
     ]
    }
   ],
   "source": [
    "import pandas as pd\n",
    "import duckdb\n",
    "\n",
    "import os\n",
    "print(os.getcwd())\n",
    "\n",
    "df = pd.read_csv(r\"C:\\Users\\Pardis\\OneDrive\\Desktop\\sales_data_02.csv\",skiprows=1)\n",
    "\n"
   ]
  },
  {
   "cell_type": "code",
   "execution_count": 14,
   "metadata": {},
   "outputs": [
    {
     "name": "stdout",
     "output_type": "stream",
     "text": [
      "Index(['Row Labels', 'East', 'North', 'South', 'West', 'Grand Total'], dtype='object')\n"
     ]
    }
   ],
   "source": [
    "print(df.columns)\n"
   ]
  },
  {
   "cell_type": "code",
   "execution_count": 18,
   "metadata": {},
   "outputs": [],
   "source": [
    "df.columns = ['Category', 'East', 'North', 'South', 'West', 'Total']\n"
   ]
  },
  {
   "cell_type": "code",
   "execution_count": 19,
   "metadata": {},
   "outputs": [
    {
     "data": {
      "text/html": [
       "<div>\n",
       "<style scoped>\n",
       "    .dataframe tbody tr th:only-of-type {\n",
       "        vertical-align: middle;\n",
       "    }\n",
       "\n",
       "    .dataframe tbody tr th {\n",
       "        vertical-align: top;\n",
       "    }\n",
       "\n",
       "    .dataframe thead th {\n",
       "        text-align: right;\n",
       "    }\n",
       "</style>\n",
       "<table border=\"1\" class=\"dataframe\">\n",
       "  <thead>\n",
       "    <tr style=\"text-align: right;\">\n",
       "      <th></th>\n",
       "      <th>Category</th>\n",
       "      <th>East</th>\n",
       "      <th>North</th>\n",
       "      <th>South</th>\n",
       "      <th>West</th>\n",
       "      <th>Total</th>\n",
       "    </tr>\n",
       "  </thead>\n",
       "  <tbody>\n",
       "    <tr>\n",
       "      <th>0</th>\n",
       "      <td>Accessories</td>\n",
       "      <td>450.0</td>\n",
       "      <td>500</td>\n",
       "      <td>NaN</td>\n",
       "      <td>NaN</td>\n",
       "      <td>950</td>\n",
       "    </tr>\n",
       "    <tr>\n",
       "      <th>1</th>\n",
       "      <td>Electronics</td>\n",
       "      <td>NaN</td>\n",
       "      <td>4000</td>\n",
       "      <td>5000.0</td>\n",
       "      <td>1400.0</td>\n",
       "      <td>10400</td>\n",
       "    </tr>\n",
       "    <tr>\n",
       "      <th>2</th>\n",
       "      <td>Grand Total</td>\n",
       "      <td>450.0</td>\n",
       "      <td>4500</td>\n",
       "      <td>5000.0</td>\n",
       "      <td>1400.0</td>\n",
       "      <td>11350</td>\n",
       "    </tr>\n",
       "  </tbody>\n",
       "</table>\n",
       "</div>"
      ],
      "text/plain": [
       "      Category   East  North   South    West  Total\n",
       "0  Accessories  450.0    500     NaN     NaN    950\n",
       "1  Electronics    NaN   4000  5000.0  1400.0  10400\n",
       "2  Grand Total  450.0   4500  5000.0  1400.0  11350"
      ]
     },
     "execution_count": 19,
     "metadata": {},
     "output_type": "execute_result"
    }
   ],
   "source": [
    "df.head()"
   ]
  },
  {
   "cell_type": "code",
   "execution_count": 20,
   "metadata": {},
   "outputs": [],
   "source": [
    "df_melted = df.melt(id_vars='Category', \n",
    "                    value_vars=['East', 'North', 'South', 'West'],\n",
    "                    var_name='Region',\n",
    "                    value_name='Revenue')\n",
    "\n",
    "df_melted = df_melted[df_melted['Category'] != 'Grand Total']\n"
   ]
  },
  {
   "cell_type": "code",
   "execution_count": 21,
   "metadata": {},
   "outputs": [
    {
     "name": "stdout",
     "output_type": "stream",
     "text": [
      "      Category Region  Total_Revenue\n",
      "0  Electronics   East            NaN\n",
      "1  Electronics  North         4000.0\n",
      "2  Accessories  South            NaN\n",
      "3  Accessories   West            NaN\n",
      "4  Electronics  South         5000.0\n",
      "5  Electronics   West         1400.0\n",
      "6  Accessories   East          450.0\n",
      "7  Accessories  North          500.0\n"
     ]
    }
   ],
   "source": [
    "import duckdb\n",
    "\n",
    "result = duckdb.query(\"\"\"\n",
    "    SELECT Category, Region, SUM(Revenue) AS Total_Revenue\n",
    "    FROM df_melted\n",
    "    GROUP BY Category, Region\n",
    "\"\"\").to_df()\n",
    "\n",
    "print(result)"
   ]
  },
  {
   "cell_type": "code",
   "execution_count": 25,
   "metadata": {},
   "outputs": [
    {
     "name": "stdout",
     "output_type": "stream",
     "text": [
      "Index(['Row Labels', 'East', 'North', 'South', 'West', 'Grand Total'], dtype='object')\n"
     ]
    }
   ],
   "source": [
    "print(df.columns)"
   ]
  },
  {
   "cell_type": "code",
   "execution_count": 27,
   "metadata": {},
   "outputs": [
    {
     "name": "stdout",
     "output_type": "stream",
     "text": [
      "    Row Labels   East  North   South    West  Grand Total\n",
      "0  Accessories  450.0    500     NaN     NaN          950\n",
      "1  Electronics    NaN   4000  5000.0  1400.0        10400\n",
      "2  Grand Total  450.0   4500  5000.0  1400.0        11350\n"
     ]
    }
   ],
   "source": [
    "print(df.head())"
   ]
  },
  {
   "cell_type": "code",
   "execution_count": 28,
   "metadata": {},
   "outputs": [],
   "source": [
    "df_long = df.melt(id_vars=['Row Labels'], value_vars=['East', 'North', 'South', 'West'], \n",
    "                  var_name='Region', value_name='Total_Revenue')"
   ]
  },
  {
   "cell_type": "code",
   "execution_count": 29,
   "metadata": {},
   "outputs": [
    {
     "name": "stdout",
     "output_type": "stream",
     "text": [
      "       Category Region  Revenue\n",
      "0   Electronics  South   5000.0\n",
      "1   Electronics   West   1400.0\n",
      "2   Electronics   East      0.0\n",
      "3   Electronics  North   4000.0\n",
      "4   Accessories   East    450.0\n",
      "5   Accessories  North    500.0\n",
      "6   Grand Total  South   5000.0\n",
      "7   Grand Total   West   1400.0\n",
      "8   Accessories  South      0.0\n",
      "9   Accessories   West      0.0\n",
      "10  Grand Total   East    450.0\n",
      "11  Grand Total  North   4500.0\n"
     ]
    }
   ],
   "source": [
    "import duckdb\n",
    "\n",
    "df_long['Total_Revenue'] = df_long['Total_Revenue'].fillna(0)\n",
    "\n",
    "con = duckdb.connect()\n",
    "con.register('df_view', df_long)\n",
    "\n",
    "result = con.execute(\"\"\"\n",
    "    SELECT \"Row Labels\" AS Category, Region, SUM(Total_Revenue) AS Revenue\n",
    "    FROM df_view\n",
    "    GROUP BY \"Row Labels\", Region\n",
    "\"\"\").fetchdf()\n",
    "\n",
    "print(result)"
   ]
  },
  {
   "cell_type": "code",
   "execution_count": 33,
   "metadata": {},
   "outputs": [],
   "source": [
    "df_long = df.melt(id_vars=['Row Labels'], value_vars=['East', 'North', 'South', 'West'],\n",
    "                  var_name='Region', value_name='Total_Revenue')\n",
    "\n",
    "df_long['Total_Revenue'] = df_long['Total_Revenue'].fillna(0)\n"
   ]
  },
  {
   "cell_type": "code",
   "execution_count": 35,
   "metadata": {},
   "outputs": [
    {
     "name": "stdout",
     "output_type": "stream",
     "text": [
      "      Category  Total_Revenue\n",
      "0  Grand Total        11350.0\n",
      "1  Electronics        10400.0\n",
      "2  Accessories          950.0\n"
     ]
    }
   ],
   "source": [
    "result = con.execute(\"\"\"\n",
    "SELECT \"Row Labels\" AS Category, SUM(Total_Revenue) AS Total_Revenue\n",
    "FROM df_long\n",
    "GROUP BY \"Row Labels\"\n",
    "ORDER BY Total_Revenue DESC\n",
    "                     \"\"\").fetchdf()\n",
    "print(result)\n"
   ]
  },
  {
   "cell_type": "code",
   "execution_count": 36,
   "metadata": {},
   "outputs": [
    {
     "name": "stdout",
     "output_type": "stream",
     "text": [
      "  Region  Total_Revenue\n",
      "0  South        10000.0\n",
      "1  North         9000.0\n",
      "2   West         2800.0\n",
      "3   East          900.0\n"
     ]
    }
   ],
   "source": [
    "result = con.execute(\"\"\"\n",
    "SELECT Region, SUM(Total_Revenue) AS Total_Revenue\n",
    "FROM df_long\n",
    "GROUP BY Region\n",
    "ORDER BY Total_Revenue DESC\n",
    "                     \"\"\").fetchdf()\n",
    "print(result)"
   ]
  },
  {
   "cell_type": "code",
   "execution_count": 37,
   "metadata": {},
   "outputs": [
    {
     "name": "stdout",
     "output_type": "stream",
     "text": [
      "      Category Region  Total_Revenue\n",
      "0  Accessories   East          450.0\n",
      "1  Grand Total   East          450.0\n",
      "2  Grand Total  North         4500.0\n",
      "3  Electronics  South         5000.0\n",
      "4  Grand Total  South         5000.0\n",
      "5  Electronics   West         1400.0\n",
      "6  Grand Total   West         1400.0\n"
     ]
    }
   ],
   "source": [
    "result = con.execute(\"\"\"\n",
    "SELECT \"Row Labels\" AS Category, Region, Total_Revenue\n",
    "FROM df_long\n",
    "WHERE Total_Revenue = (\n",
    "    SELECT MAX(Total_Revenue)\n",
    "    FROM df_long AS sub\n",
    "    WHERE sub.Region = df_long.Region\n",
    ")\n",
    "ORDER BY Region\n",
    "\n",
    "                     \"\"\").fetchdf()\n",
    "print(result)"
   ]
  },
  {
   "cell_type": "code",
   "execution_count": 38,
   "metadata": {},
   "outputs": [
    {
     "name": "stdout",
     "output_type": "stream",
     "text": [
      "      Category  Avg_Revenue\n",
      "0  Grand Total       2837.5\n",
      "1  Electronics       2600.0\n",
      "2  Accessories        237.5\n"
     ]
    }
   ],
   "source": [
    "result = con.execute(\"\"\"\n",
    "SELECT \"Row Labels\" AS Category, AVG(Total_Revenue) AS Avg_Revenue\n",
    "FROM df_long\n",
    "GROUP BY \"Row Labels\"\n",
    "ORDER BY Avg_Revenue DESC\n",
    "                     \"\"\").fetchdf()\n",
    "print(result)"
   ]
  },
  {
   "cell_type": "code",
   "execution_count": 39,
   "metadata": {},
   "outputs": [
    {
     "name": "stdout",
     "output_type": "stream",
     "text": [
      "      Category  Total_Revenue\n",
      "0  Grand Total          450.0\n",
      "1  Accessories          450.0\n",
      "2  Electronics            0.0\n"
     ]
    }
   ],
   "source": [
    "result = con.execute(\"\"\"\n",
    "SELECT \"Row Labels\" AS Category, Total_Revenue\n",
    "FROM df_long\n",
    "WHERE Region = 'East'\n",
    "ORDER BY Total_Revenue DESC\n",
    "LIMIT 3\n",
    "                     \"\"\").fetchdf()\n",
    "print(result)"
   ]
  }
 ],
 "metadata": {
  "kernelspec": {
   "display_name": "base",
   "language": "python",
   "name": "python3"
  },
  "language_info": {
   "codemirror_mode": {
    "name": "ipython",
    "version": 3
   },
   "file_extension": ".py",
   "mimetype": "text/x-python",
   "name": "python",
   "nbconvert_exporter": "python",
   "pygments_lexer": "ipython3",
   "version": "3.12.7"
  }
 },
 "nbformat": 4,
 "nbformat_minor": 2
}
